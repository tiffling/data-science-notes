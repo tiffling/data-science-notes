{
 "cells": [
  {
   "cell_type": "markdown",
   "metadata": {},
   "source": [
    "* K means clustering algorithm - cluster unlabeled data in unsupervised ML algorithm and attempt to group similar clusters\n",
    "* Not about predicting, more about finding patterns\n",
    "* How it works:\n",
    "    * Choose a number of clusters `K`\n",
    "    * Randomly assign each point to a cluster\n",
    "    * While clusters are changing - compute \"cluster centroid\" (mean vector of points in cluster) and assign each data point to cluster where the centroid is closest\n",
    "* Choosing a K value:\n",
    "    * No best way\n",
    "    * Can use the \"elbow method\"\n",
    "        * find SSE for some values of K\n",
    "        * SSE - sum of squared distance between each member of cluster and its centroid\n",
    "        * as K increases, SSE decreases\n",
    "        * choose the values of K at which SSE decreases abrutly (hence the \"elbow effect\") pick the nook of the elbow"
   ]
  },
  {
   "cell_type": "code",
   "execution_count": 3,
   "metadata": {},
   "outputs": [],
   "source": [
    "import seaborn as sns\n",
    "import matplotlib.pyplot as plt\n",
    "%matplotlib inline"
   ]
  },
  {
   "cell_type": "code",
   "execution_count": 4,
   "metadata": {},
   "outputs": [],
   "source": [
    "from sklearn.datasets import make_blobs"
   ]
  },
  {
   "cell_type": "code",
   "execution_count": null,
   "metadata": {},
   "outputs": [],
   "source": [
    "make_blobs(n_smaples=200, n_features=2, centers=4, cluster_std= 1.8, random_state=101)"
   ]
  }
 ],
 "metadata": {
  "kernelspec": {
   "display_name": "Python 3",
   "language": "python",
   "name": "python3"
  },
  "language_info": {
   "codemirror_mode": {
    "name": "ipython",
    "version": 3
   },
   "file_extension": ".py",
   "mimetype": "text/x-python",
   "name": "python",
   "nbconvert_exporter": "python",
   "pygments_lexer": "ipython3",
   "version": "3.7.0"
  }
 },
 "nbformat": 4,
 "nbformat_minor": 2
}
