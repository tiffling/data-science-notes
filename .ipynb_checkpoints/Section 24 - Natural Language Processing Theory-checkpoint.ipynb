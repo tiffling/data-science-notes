{
 "cells": [
  {
   "cell_type": "markdown",
   "metadata": {},
   "source": [
    "* Processing that groups text or unstructuted text data\n",
    "* General strategy:\n",
    "    * compile docs\n",
    "    * featurize\n",
    "    * compare features\n",
    "* \"Bag of words\": collects how many times each words is in a document in vectors (ex. (0,1,0))\n",
    "* TF-IDF\n",
    "    * Term frequency: importance of term within doc (number of times it occurs)\n",
    "    * Inverse Document Frequency: importance of term in corpus (all the docs)"
   ]
  },
  {
   "cell_type": "code",
   "execution_count": null,
   "metadata": {},
   "outputs": [],
   "source": []
  }
 ],
 "metadata": {
  "kernelspec": {
   "display_name": "Python 3",
   "language": "python",
   "name": "python3"
  },
  "language_info": {
   "codemirror_mode": {
    "name": "ipython",
    "version": 3
   },
   "file_extension": ".py",
   "mimetype": "text/x-python",
   "name": "python",
   "nbconvert_exporter": "python",
   "pygments_lexer": "ipython3",
   "version": "3.7.0"
  }
 },
 "nbformat": 4,
 "nbformat_minor": 2
}
